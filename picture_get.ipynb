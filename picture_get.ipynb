{
 "cells": [
  {
   "cell_type": "code",
   "execution_count": 10,
   "metadata": {},
   "outputs": [],
   "source": [
    "import requests\n",
    "from bs4 import BeautifulSoup\n",
    "import urllib.request"
   ]
  },
  {
   "cell_type": "code",
   "execution_count": 11,
   "metadata": {},
   "outputs": [],
   "source": [
    "#検索するURLを指定\n",
    "headers = {'User-Agent':'hoge'}\n",
    "url = 'https://www.google.com/search'"
   ]
  },
  {
   "cell_type": "code",
   "execution_count": 12,
   "metadata": {},
   "outputs": [
    {
     "name": "stdout",
     "output_type": "stream",
     "text": [
      "検索キーワードを入力してください浜辺美波\n",
      "何枚取得しますか？300\n",
      "どこに保存しますか？minami\n"
     ]
    }
   ],
   "source": [
    "#検索ワードを入力\n",
    "keyword = input('検索キーワードを入力してください')\n",
    "\n",
    "#取得枚数を入力\n",
    "num = int(input('何枚取得しますか？'))\n",
    "who = input('どこに保存しますか？')\n",
    "\n",
    "for val in range(0, num, 20):\n",
    "    ## URLパラメータ作成：q: 検索キーワード, tbm: 検索パターンの指定, start: 検索をスタートする開始位置\n",
    "    p = {'q': keyword , 'tbm': 'isch', 'start': val}\n",
    "    \n",
    "    #上記で与えたパラメータで該当URLで検索結果のHTMLを取得\n",
    "    resp = requests.get(url, params = p)\n",
    "    \n",
    "    #取得結果をtext化してsoupに代入\n",
    "    soup = BeautifulSoup(resp.text,'lxml')\n",
    "    \n",
    "    #class属性が下記で指定したものを取得する\n",
    "    imgs = soup.select(\".t0fcAb\")\n",
    "    \n",
    "    for i in range(len(imgs)):\n",
    "        filepath = '{}/{}.jpg'.format(who,val+i)\n",
    "        urllib.request.urlretrieve(imgs[i]['src'],filepath)\n",
    "    "
   ]
  },
  {
   "cell_type": "code",
   "execution_count": null,
   "metadata": {},
   "outputs": [],
   "source": []
  },
  {
   "cell_type": "code",
   "execution_count": null,
   "metadata": {},
   "outputs": [],
   "source": []
  },
  {
   "cell_type": "code",
   "execution_count": null,
   "metadata": {},
   "outputs": [],
   "source": []
  }
 ],
 "metadata": {
  "kernelspec": {
   "display_name": "Python 3",
   "language": "python",
   "name": "python3"
  },
  "language_info": {
   "codemirror_mode": {
    "name": "ipython",
    "version": 3
   },
   "file_extension": ".py",
   "mimetype": "text/x-python",
   "name": "python",
   "nbconvert_exporter": "python",
   "pygments_lexer": "ipython3",
   "version": "3.7.7"
  }
 },
 "nbformat": 4,
 "nbformat_minor": 4
}
